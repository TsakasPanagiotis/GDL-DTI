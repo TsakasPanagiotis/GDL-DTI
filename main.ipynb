{
 "cells": [
  {
   "cell_type": "code",
   "execution_count": null,
   "metadata": {},
   "outputs": [],
   "source": [
    "import nibabel as nib\n",
    "import numpy as np\n",
    "import plotly.graph_objects as go"
   ]
  },
  {
   "cell_type": "markdown",
   "metadata": {},
   "source": [
    "## nii data"
   ]
  },
  {
   "cell_type": "code",
   "execution_count": null,
   "metadata": {},
   "outputs": [],
   "source": [
    "nii_gz_path = 'C:/Users/panag/Desktop/Test/mgh_1001/diff/preproc/mri/diff_preproc.nii.gz'"
   ]
  },
  {
   "cell_type": "code",
   "execution_count": null,
   "metadata": {},
   "outputs": [],
   "source": [
    "# nii_img  = nib.load(nii_gz_path)"
   ]
  },
  {
   "cell_type": "code",
   "execution_count": null,
   "metadata": {},
   "outputs": [],
   "source": [
    "# nii_data = nii_img.get_fdata()"
   ]
  },
  {
   "cell_type": "code",
   "execution_count": null,
   "metadata": {},
   "outputs": [],
   "source": [
    "# nii_data.shape"
   ]
  },
  {
   "cell_type": "markdown",
   "metadata": {},
   "source": [
    "## b-values"
   ]
  },
  {
   "cell_type": "code",
   "execution_count": null,
   "metadata": {},
   "outputs": [],
   "source": [
    "b_values_path = 'C:/Users/panag/Desktop/Test/mgh_1001/diff/preproc/bvals.txt'"
   ]
  },
  {
   "cell_type": "code",
   "execution_count": null,
   "metadata": {},
   "outputs": [],
   "source": [
    "b_values = np.genfromtxt(b_values_path)"
   ]
  },
  {
   "cell_type": "code",
   "execution_count": null,
   "metadata": {},
   "outputs": [],
   "source": [
    "print(np.unique(b_values))"
   ]
  },
  {
   "cell_type": "code",
   "execution_count": null,
   "metadata": {},
   "outputs": [],
   "source": [
    "b_values[(b_values >= 9_950) & (b_values <= 10_050)] = 10_000"
   ]
  },
  {
   "cell_type": "code",
   "execution_count": null,
   "metadata": {},
   "outputs": [],
   "source": [
    "print(np.unique(b_values))"
   ]
  },
  {
   "cell_type": "code",
   "execution_count": null,
   "metadata": {},
   "outputs": [],
   "source": [
    "b_values_unique = np.unique(b_values[b_values > 0])"
   ]
  },
  {
   "cell_type": "code",
   "execution_count": null,
   "metadata": {},
   "outputs": [],
   "source": [
    "print(b_values_unique)"
   ]
  },
  {
   "cell_type": "markdown",
   "metadata": {},
   "source": [
    "## direction vectors"
   ]
  },
  {
   "cell_type": "code",
   "execution_count": null,
   "metadata": {},
   "outputs": [],
   "source": [
    "direction_vectors_path = 'C:/Users/panag/Desktop/Test/mgh_1001/diff/preproc/bvecs_moco_norm.txt'"
   ]
  },
  {
   "cell_type": "code",
   "execution_count": null,
   "metadata": {},
   "outputs": [],
   "source": [
    "direction_vectors = np.genfromtxt(direction_vectors_path)"
   ]
  },
  {
   "cell_type": "code",
   "execution_count": null,
   "metadata": {},
   "outputs": [],
   "source": [
    "print(np.unique(direction_vectors, axis=0).shape)"
   ]
  },
  {
   "cell_type": "code",
   "execution_count": null,
   "metadata": {},
   "outputs": [],
   "source": [
    "def create_sphere(radius):\n",
    "    \n",
    "    theta = np.linspace(0,2.*np.pi,100)\n",
    "    phi = np.linspace(0,np.pi,100)\n",
    "\n",
    "    x = radius * np.outer(np.cos(theta),np.sin(phi))\n",
    "    y = radius * np.outer(np.sin(theta),np.sin(phi))\n",
    "    z = radius * np.outer(np.ones(np.size(theta)),np.cos(phi))\n",
    "\n",
    "    spere = go.Surface(x=x, y=y, z=z, colorscale='Greys', showscale=False, opacity=0.1)\n",
    "    \n",
    "    return spere"
   ]
  },
  {
   "cell_type": "code",
   "execution_count": null,
   "metadata": {},
   "outputs": [],
   "source": [
    "\n",
    "sphere = create_sphere(radius=1)\n",
    "\n",
    "scatter = go.Scatter3d(\n",
    "    x=direction_vectors[:,0],\n",
    "    y=direction_vectors[:,1],\n",
    "    z=direction_vectors[:,2],\n",
    "    mode='markers',\n",
    "    marker=dict(\n",
    "        size=3,\n",
    "        color=np.linalg.norm(direction_vectors, axis=1),\n",
    "        colorscale=[(0, 'blue'), (1, 'red')],\n",
    "    ),\n",
    ")\n",
    "\n",
    "\n",
    "fig = go.Figure(data=[sphere, scatter])\n",
    "\n",
    "fig.update_layout(\n",
    "    autosize=False,\n",
    "    width=800,\n",
    "    height=800,\n",
    ")\n",
    "\n",
    "fig.show()"
   ]
  },
  {
   "cell_type": "markdown",
   "metadata": {},
   "source": [
    "## magnitude vectors"
   ]
  },
  {
   "cell_type": "code",
   "execution_count": null,
   "metadata": {},
   "outputs": [],
   "source": [
    "magnitude_vectors = np.multiply(b_values[:, np.newaxis], direction_vectors)"
   ]
  },
  {
   "cell_type": "code",
   "execution_count": null,
   "metadata": {},
   "outputs": [],
   "source": [
    "spheres = []\n",
    "scatters = []\n",
    "\n",
    "for b_value in b_values_unique:\n",
    "\n",
    "    label = f'b-value: {b_value:,.0f}'.replace(',', '_')\n",
    "\n",
    "    sphere = create_sphere(b_value)\n",
    "    sphere.update(showlegend=False, legendgroup=label)\n",
    "    spheres.append(sphere)\n",
    "\n",
    "    magnitude_vectors_subset = magnitude_vectors[b_values == b_value, :]\n",
    "    print(f'b-value {b_value:.0f} - {magnitude_vectors_subset.shape[0]} directions')\n",
    "    \n",
    "    scatter = go.Scatter3d(\n",
    "        x=magnitude_vectors_subset[:, 0],\n",
    "        y=magnitude_vectors_subset[:, 1],\n",
    "        z=magnitude_vectors_subset[:, 2],\n",
    "        mode='markers',\n",
    "        marker=dict(\n",
    "            size=4,\n",
    "        ),\n",
    "        name=label,\n",
    "        legendgroup=label,\n",
    "    )\n",
    "    scatters.append(scatter)\n",
    "\n",
    "\n",
    "fig = go.Figure(data=scatters+spheres)\n",
    "\n",
    "fig.update_layout(\n",
    "    autosize=False,\n",
    "    width=800,\n",
    "    height=800,\n",
    ")\n",
    "\n",
    "fig.show()"
   ]
  },
  {
   "cell_type": "markdown",
   "metadata": {},
   "source": [
    "## voxel data"
   ]
  },
  {
   "cell_type": "code",
   "execution_count": null,
   "metadata": {},
   "outputs": [],
   "source": [
    "# voxel_data = nii_data[44, 53, 20, :]\n",
    "# np.save('./voxel_data.npy', voxel_data)"
   ]
  },
  {
   "cell_type": "code",
   "execution_count": null,
   "metadata": {},
   "outputs": [],
   "source": [
    "voxel_data = np.load('./voxel_data.npy')"
   ]
  },
  {
   "cell_type": "code",
   "execution_count": null,
   "metadata": {},
   "outputs": [],
   "source": [
    "fig = go.Figure(data=[go.Histogram(x=voxel_data)])\n",
    "fig.show()"
   ]
  },
  {
   "cell_type": "code",
   "execution_count": null,
   "metadata": {},
   "outputs": [],
   "source": [
    "spheres = []\n",
    "scatters = []\n",
    "\n",
    "for b_value in b_values_unique:\n",
    "\n",
    "    label = f'b-value: {b_value:,.0f}'.replace(',', '_')\n",
    "\n",
    "    sphere = create_sphere(b_value)\n",
    "    sphere.update(showlegend=False, legendgroup=label)\n",
    "    spheres.append(sphere)\n",
    "\n",
    "    magnitude_vectors_subset = magnitude_vectors[b_values == b_value, :]\n",
    "    voxel_data_subset = voxel_data[b_values == b_value]\n",
    "    voxel_data_subset_normalized = (voxel_data_subset - voxel_data_subset.min()) / (voxel_data_subset.max() - voxel_data_subset.min())\n",
    "    \n",
    "    scatter = go.Scatter3d(\n",
    "        x=magnitude_vectors_subset[:, 0],\n",
    "        y=magnitude_vectors_subset[:, 1],\n",
    "        z=magnitude_vectors_subset[:, 2],\n",
    "        mode='markers',\n",
    "        marker=dict(\n",
    "            size=15 * voxel_data_subset_normalized,\n",
    "            color=voxel_data_subset_normalized,\n",
    "            colorscale=[(0, 'blue'), (1, 'red')],\n",
    "        ),\n",
    "        name=label,\n",
    "        legendgroup=label,\n",
    "        showlegend=False,\n",
    "    )\n",
    "    scatters.append(scatter)\n",
    "\n",
    "    scatter = go.Scatter3d(\n",
    "        x=[None],\n",
    "        y=[None],\n",
    "        z=[None],\n",
    "        mode='markers',\n",
    "        marker=dict(\n",
    "            size=0,\n",
    "            color='white',\n",
    "        ),\n",
    "        name=label,\n",
    "        legendgroup=label,\n",
    "    )\n",
    "    scatters.append(scatter)\n",
    "\n",
    "\n",
    "fig = go.Figure(data=scatters+spheres)\n",
    "\n",
    "fig.update_layout(\n",
    "    autosize=False,\n",
    "    width=800,\n",
    "    height=800,\n",
    ")\n",
    "\n",
    "fig.show()"
   ]
  }
 ],
 "metadata": {
  "kernelspec": {
   "display_name": ".venv",
   "language": "python",
   "name": "python3"
  },
  "language_info": {
   "codemirror_mode": {
    "name": "ipython",
    "version": 3
   },
   "file_extension": ".py",
   "mimetype": "text/x-python",
   "name": "python",
   "nbconvert_exporter": "python",
   "pygments_lexer": "ipython3",
   "version": "3.10.5"
  }
 },
 "nbformat": 4,
 "nbformat_minor": 2
}
