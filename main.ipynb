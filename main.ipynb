{
 "cells": [
  {
   "cell_type": "code",
   "execution_count": null,
   "metadata": {},
   "outputs": [],
   "source": [
    "import nibabel as nib\n",
    "import numpy as np\n",
    "import plotly.graph_objects as go\n",
    "from scipy.interpolate import Rbf\n",
    "from plotly.subplots import make_subplots"
   ]
  },
  {
   "cell_type": "markdown",
   "metadata": {},
   "source": [
    "## nii data"
   ]
  },
  {
   "cell_type": "code",
   "execution_count": null,
   "metadata": {},
   "outputs": [],
   "source": [
    "nii_gz_path = 'C:/Users/panag/Desktop/Test/mgh_1001/diff/preproc/mri/diff_preproc.nii.gz'"
   ]
  },
  {
   "cell_type": "code",
   "execution_count": null,
   "metadata": {},
   "outputs": [],
   "source": [
    "# nii_img  = nib.load(nii_gz_path)"
   ]
  },
  {
   "cell_type": "code",
   "execution_count": null,
   "metadata": {},
   "outputs": [],
   "source": [
    "# nii_data = nii_img.get_fdata()"
   ]
  },
  {
   "cell_type": "code",
   "execution_count": null,
   "metadata": {},
   "outputs": [],
   "source": [
    "# nii_data.shape"
   ]
  },
  {
   "cell_type": "markdown",
   "metadata": {},
   "source": [
    "## b-values"
   ]
  },
  {
   "cell_type": "code",
   "execution_count": null,
   "metadata": {},
   "outputs": [],
   "source": [
    "b_values_path = 'C:/Users/panag/Desktop/Test/mgh_1001/diff/preproc/bvals.txt'"
   ]
  },
  {
   "cell_type": "code",
   "execution_count": null,
   "metadata": {},
   "outputs": [],
   "source": [
    "b_values = np.genfromtxt(b_values_path)"
   ]
  },
  {
   "cell_type": "code",
   "execution_count": null,
   "metadata": {},
   "outputs": [],
   "source": [
    "print(*zip(*np.unique(b_values, return_counts=True)))"
   ]
  },
  {
   "cell_type": "code",
   "execution_count": null,
   "metadata": {},
   "outputs": [],
   "source": [
    "b_values[(b_values >= 9_950) & (b_values <= 10_050)] = 10_000"
   ]
  },
  {
   "cell_type": "code",
   "execution_count": null,
   "metadata": {},
   "outputs": [],
   "source": [
    "b_values_nz_unique, _ = np.unique(b_values[b_values > 0], return_counts=True)"
   ]
  },
  {
   "cell_type": "code",
   "execution_count": null,
   "metadata": {},
   "outputs": [],
   "source": [
    "print(*zip(b_values_nz_unique, _))"
   ]
  },
  {
   "cell_type": "markdown",
   "metadata": {},
   "source": [
    "## direction vectors"
   ]
  },
  {
   "cell_type": "code",
   "execution_count": null,
   "metadata": {},
   "outputs": [],
   "source": [
    "direction_vectors_path = 'C:/Users/panag/Desktop/Test/mgh_1001/diff/preproc/bvecs_moco_norm.txt'"
   ]
  },
  {
   "cell_type": "code",
   "execution_count": null,
   "metadata": {},
   "outputs": [],
   "source": [
    "direction_vectors = np.genfromtxt(direction_vectors_path)"
   ]
  },
  {
   "cell_type": "code",
   "execution_count": null,
   "metadata": {},
   "outputs": [],
   "source": [
    "print(np.unique(direction_vectors, axis=0).shape)"
   ]
  },
  {
   "cell_type": "code",
   "execution_count": null,
   "metadata": {},
   "outputs": [],
   "source": [
    "def create_sphere(radius):\n",
    "    \n",
    "    theta = np.linspace(0,2.*np.pi,100)\n",
    "    phi = np.linspace(0,np.pi,100)\n",
    "\n",
    "    x = radius * np.outer(np.cos(theta),np.sin(phi))\n",
    "    y = radius * np.outer(np.sin(theta),np.sin(phi))\n",
    "    z = radius * np.outer(np.ones(np.size(theta)),np.cos(phi))\n",
    "\n",
    "    spere = go.Surface(x=x, y=y, z=z, colorscale='Greys', showscale=False, opacity=0.1)\n",
    "    \n",
    "    return spere"
   ]
  },
  {
   "cell_type": "code",
   "execution_count": null,
   "metadata": {},
   "outputs": [],
   "source": [
    "sphere = create_sphere(radius=1)\n",
    "\n",
    "scatter = go.Scatter3d(\n",
    "    x=direction_vectors[:,0],\n",
    "    y=direction_vectors[:,1],\n",
    "    z=direction_vectors[:,2],\n",
    "    mode='markers',\n",
    "    marker=dict(\n",
    "        size=3,\n",
    "        color=np.linalg.norm(direction_vectors, axis=1),\n",
    "        colorscale=[(0, 'blue'), (1, 'red')],\n",
    "    ),\n",
    ")\n",
    "\n",
    "\n",
    "fig = go.Figure(data=[sphere, scatter])\n",
    "\n",
    "fig.update_layout(\n",
    "    autosize=False,\n",
    "    width=800,\n",
    "    height=800,\n",
    "    hovermode=False,\n",
    "    scene=dict(\n",
    "        xaxis=dict(showspikes=False),\n",
    "        yaxis=dict(showspikes=False),\n",
    "        zaxis=dict(showspikes=False)\n",
    "    ),\n",
    ")\n",
    "\n",
    "fig.show()"
   ]
  },
  {
   "cell_type": "markdown",
   "metadata": {},
   "source": [
    "## magnitude vectors"
   ]
  },
  {
   "cell_type": "code",
   "execution_count": null,
   "metadata": {},
   "outputs": [],
   "source": [
    "magnitude_vectors = np.multiply(b_values[:, np.newaxis], direction_vectors)"
   ]
  },
  {
   "cell_type": "code",
   "execution_count": null,
   "metadata": {},
   "outputs": [],
   "source": [
    "spheres = []\n",
    "scatters = []\n",
    "\n",
    "for b_value in b_values_nz_unique:\n",
    "\n",
    "    label = f'b-value: {b_value:,.0f}'.replace(',', '_')\n",
    "\n",
    "    sphere = create_sphere(b_value)\n",
    "    sphere.update(showlegend=False, legendgroup=label)\n",
    "    spheres.append(sphere)\n",
    "\n",
    "    magnitude_vectors_subset = magnitude_vectors[b_values == b_value, :]\n",
    "    \n",
    "    scatter = go.Scatter3d(\n",
    "        x=magnitude_vectors_subset[:, 0],\n",
    "        y=magnitude_vectors_subset[:, 1],\n",
    "        z=magnitude_vectors_subset[:, 2],\n",
    "        mode='markers',\n",
    "        marker=dict(\n",
    "            size=4,\n",
    "        ),\n",
    "        name=label,\n",
    "        legendgroup=label,\n",
    "    )\n",
    "    scatters.append(scatter)\n",
    "\n",
    "\n",
    "fig = go.Figure(data=scatters+spheres)\n",
    "\n",
    "fig.update_layout(\n",
    "    autosize=False,\n",
    "    width=800,\n",
    "    height=800,\n",
    "    hovermode=False,\n",
    "    **{\n",
    "        f'scene{i+1}': dict(\n",
    "            xaxis=dict(showspikes=False),\n",
    "            yaxis=dict(showspikes=False),\n",
    "            zaxis=dict(showspikes=False)\n",
    "        ) for i in range(len(b_values_nz_unique))\n",
    "    }\n",
    ")\n",
    "\n",
    "fig.show()"
   ]
  },
  {
   "cell_type": "markdown",
   "metadata": {},
   "source": [
    "## voxel data"
   ]
  },
  {
   "cell_type": "code",
   "execution_count": null,
   "metadata": {},
   "outputs": [],
   "source": [
    "# voxel_data = nii_data[44, 53, 20, :]\n",
    "# np.save('./voxel_data.npy', voxel_data)"
   ]
  },
  {
   "cell_type": "code",
   "execution_count": null,
   "metadata": {},
   "outputs": [],
   "source": [
    "voxel_data = np.load('./voxel_data.npy')"
   ]
  },
  {
   "cell_type": "markdown",
   "metadata": {},
   "source": [
    "#### Together"
   ]
  },
  {
   "cell_type": "code",
   "execution_count": null,
   "metadata": {},
   "outputs": [],
   "source": [
    "spheres = []\n",
    "scatters = []\n",
    "\n",
    "for b_value in b_values_nz_unique:\n",
    "\n",
    "    label = f'b-value: {b_value:,.0f}'.replace(',', '_')\n",
    "\n",
    "    sphere = create_sphere(b_value)\n",
    "    sphere.update(showlegend=False, legendgroup=label)\n",
    "    spheres.append(sphere)\n",
    "\n",
    "    magnitude_vectors_subset = magnitude_vectors[b_values == b_value, :]\n",
    "    voxel_data_subset = voxel_data[b_values == b_value]\n",
    "    voxel_data_subset_normalized = (voxel_data_subset - voxel_data_subset.min()) / (voxel_data_subset.max() - voxel_data_subset.min())\n",
    "    \n",
    "    scatter = go.Scatter3d(\n",
    "        x=magnitude_vectors_subset[:, 0],\n",
    "        y=magnitude_vectors_subset[:, 1],\n",
    "        z=magnitude_vectors_subset[:, 2],\n",
    "        mode='markers',\n",
    "        marker=dict(\n",
    "            size=15 * voxel_data_subset_normalized,\n",
    "            color=voxel_data_subset_normalized,\n",
    "            colorscale=[(0, 'blue'), (1, 'red')],\n",
    "        ),\n",
    "        name=label,\n",
    "        legendgroup=label,\n",
    "        showlegend=False,\n",
    "    )\n",
    "    scatters.append(scatter)\n",
    "\n",
    "    scatter = go.Scatter3d(\n",
    "        x=[None],\n",
    "        y=[None],\n",
    "        z=[None],\n",
    "        mode='markers',\n",
    "        marker=dict(\n",
    "            size=0,\n",
    "            color='white',\n",
    "        ),\n",
    "        name=label,\n",
    "        legendgroup=label,\n",
    "    )\n",
    "    scatters.append(scatter)\n",
    "\n",
    "\n",
    "fig = go.Figure(data=scatters+spheres)\n",
    "\n",
    "fig.update_layout(\n",
    "    autosize=False,\n",
    "    width=800,\n",
    "    height=800,\n",
    "    hovermode=False,\n",
    "    **{\n",
    "        f'scene{i+1}': dict(\n",
    "            xaxis=dict(showspikes=False),\n",
    "            yaxis=dict(showspikes=False),\n",
    "            zaxis=dict(showspikes=False)\n",
    "        ) for i in range(len(b_values_nz_unique))\n",
    "    }\n",
    ")\n",
    "\n",
    "fig.show()"
   ]
  },
  {
   "cell_type": "markdown",
   "metadata": {},
   "source": [
    "#### Separate"
   ]
  },
  {
   "cell_type": "code",
   "execution_count": null,
   "metadata": {},
   "outputs": [],
   "source": [
    "num_b_values = len(b_values_nz_unique)\n",
    "\n",
    "# Create subplot figure\n",
    "fig = make_subplots(\n",
    "    rows=1, \n",
    "    cols=num_b_values, \n",
    "    specs=[[{'type': 'scene', 'is_3d':True}]*num_b_values], \n",
    "    subplot_titles=[f'b-value: {b_value:,.0f}'.replace(',', '_') for b_value in b_values_nz_unique],\n",
    ")\n",
    "\n",
    "for i, b_value in enumerate(b_values_nz_unique):\n",
    "\n",
    "    label = f'b-value: {b_value:,.0f}'.replace(',', '_')\n",
    "\n",
    "    # Create sphere\n",
    "    sphere = create_sphere(b_value)\n",
    "    sphere.update(showlegend=False, legendgroup=label)\n",
    "\n",
    "    # Create scatter\n",
    "    magnitude_vectors_subset = magnitude_vectors[b_values == b_value, :]\n",
    "    voxel_data_subset = voxel_data[b_values == b_value]\n",
    "    voxel_data_subset_normalized = (voxel_data_subset - voxel_data_subset.min()) / (voxel_data_subset.max() - voxel_data_subset.min())\n",
    "    \n",
    "    scatter = go.Scatter3d(\n",
    "        x=magnitude_vectors_subset[:, 0],\n",
    "        y=magnitude_vectors_subset[:, 1],\n",
    "        z=magnitude_vectors_subset[:, 2],\n",
    "        mode='markers',\n",
    "        marker=dict(\n",
    "            size=15 * voxel_data_subset_normalized,\n",
    "            color=voxel_data_subset_normalized,\n",
    "            colorscale=[(0, 'blue'), (1, 'red')],\n",
    "        ),\n",
    "        name=label,\n",
    "        legendgroup=label,\n",
    "        showlegend=False,\n",
    "    )\n",
    "\n",
    "    # Add scatter and sphere\n",
    "    fig.add_trace(scatter, row=1, col=i+1)\n",
    "    fig.add_trace(sphere, row=1, col=i+1)\n",
    "\n",
    "# Update layout\n",
    "fig.update_layout(\n",
    "    autosize=True,\n",
    "    hovermode=False,\n",
    "    **{\n",
    "        f'scene{i+1}': dict(\n",
    "        xaxis=dict(showspikes=False),\n",
    "        yaxis=dict(showspikes=False),\n",
    "        zaxis=dict(showspikes=False)\n",
    "    ) for i in range(num_b_values)},\n",
    ")\n",
    "\n",
    "fig.show()"
   ]
  },
  {
   "cell_type": "markdown",
   "metadata": {},
   "source": [
    "#### Synchronized"
   ]
  },
  {
   "cell_type": "code",
   "execution_count": null,
   "metadata": {},
   "outputs": [],
   "source": [
    "import dash\n",
    "from dash.dependencies import Input, Output\n",
    "from dash import dcc\n",
    "from dash import html\n",
    "from copy import deepcopy\n",
    "\n",
    "app = dash.Dash(__name__)\n",
    "\n",
    "app.layout = html.Div([\n",
    "    dcc.Graph(\n",
    "        id='3d-plot',\n",
    "        figure=deepcopy(fig),\n",
    "    )\n",
    "])\n",
    "\n",
    "@app.callback(\n",
    "    Output('3d-plot', 'figure'),\n",
    "    [Input('3d-plot', 'relayoutData')]\n",
    ")\n",
    "def update_subplots(relayoutData):\n",
    "    if relayoutData:\n",
    "        for key in relayoutData.keys():\n",
    "            if key.startswith('scene') and key.endswith('.camera'):           \n",
    "                app.layout.children[0].figure.update_layout(\n",
    "                    **{\n",
    "                        f'scene{i+1}': dict(\n",
    "                            camera=relayoutData[key],\n",
    "                    ) for i in range(num_b_values)},\n",
    "                )\n",
    "                break        \n",
    "    return app.layout.children[0].figure\n",
    "\n",
    "app.run_server(debug=False)"
   ]
  },
  {
   "cell_type": "markdown",
   "metadata": {},
   "source": [
    "## spherical density"
   ]
  },
  {
   "cell_type": "code",
   "execution_count": null,
   "metadata": {},
   "outputs": [],
   "source": [
    "# Define a grid of (theta, phi) angles\n",
    "theta = np.linspace(0, 2*np.pi, 100)\n",
    "phi = np.linspace(0, np.pi, 100)\n",
    "theta, phi = np.meshgrid(theta, phi)\n",
    "\n",
    "# Given radius\n",
    "radius = 1  # replace with your radius\n",
    "\n",
    "# Convert these angles to Cartesian coordinates (x, y, z)\n",
    "x_grid = radius * np.sin(phi) * np.cos(theta)\n",
    "y_grid = radius * np.sin(phi) * np.sin(theta)\n",
    "z_grid = radius * np.cos(phi)\n",
    "\n",
    "# Your voxel data\n",
    "intensity = voxel_data  # replace with your voxel data\n",
    "\n",
    "# Your direction vectors\n",
    "x = direction_vectors[:, 0]\n",
    "y = direction_vectors[:, 1]\n",
    "z = direction_vectors[:, 2]\n",
    "\n",
    "# Use radial basis function interpolation to estimate the intensity\n",
    "rbf = Rbf(x, y, z, intensity, function='multiquadric', smooth=1)\n",
    "intensity_grid = rbf(x_grid, y_grid, z_grid)\n",
    "\n",
    "# Create a go.Surface object with the Cartesian coordinates and the interpolated intensities\n",
    "surface = go.Surface(x=x_grid, y=y_grid, z=z_grid, surfacecolor=intensity_grid, colorscale='Viridis')\n",
    "\n",
    "fig = go.Figure(data=[surface])\n",
    "\n",
    "fig.update_layout(\n",
    "    autosize=False,\n",
    "    width=800,\n",
    "    height=800,\n",
    "    hovermode=False,\n",
    "    scene=dict(\n",
    "        xaxis=dict(showspikes=False),\n",
    "        yaxis=dict(showspikes=False),\n",
    "        zaxis=dict(showspikes=False)\n",
    "    ),\n",
    ")\n",
    "\n",
    "fig.show()"
   ]
  }
 ],
 "metadata": {
  "kernelspec": {
   "display_name": ".venv",
   "language": "python",
   "name": "python3"
  },
  "language_info": {
   "codemirror_mode": {
    "name": "ipython",
    "version": 3
   },
   "file_extension": ".py",
   "mimetype": "text/x-python",
   "name": "python",
   "nbconvert_exporter": "python",
   "pygments_lexer": "ipython3",
   "version": "3.10.5"
  }
 },
 "nbformat": 4,
 "nbformat_minor": 2
}
