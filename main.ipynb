{
 "cells": [
  {
   "cell_type": "code",
   "execution_count": null,
   "metadata": {},
   "outputs": [],
   "source": [
    "import nibabel as nib\n",
    "import numpy as np\n",
    "import plotly.graph_objects as go"
   ]
  },
  {
   "cell_type": "markdown",
   "metadata": {},
   "source": [
    "## nii_data"
   ]
  },
  {
   "cell_type": "code",
   "execution_count": null,
   "metadata": {},
   "outputs": [],
   "source": [
    "nii_gz_path = 'C:/Users/panag/Desktop/Test/mgh_1001/diff/preproc/mri/diff_preproc.nii.gz'"
   ]
  },
  {
   "cell_type": "code",
   "execution_count": null,
   "metadata": {},
   "outputs": [],
   "source": [
    "# nii_img  = nib.load(nii_gz_path)"
   ]
  },
  {
   "cell_type": "code",
   "execution_count": null,
   "metadata": {},
   "outputs": [],
   "source": [
    "# nii_data = nii_img.get_fdata()"
   ]
  },
  {
   "cell_type": "code",
   "execution_count": null,
   "metadata": {},
   "outputs": [],
   "source": [
    "# nii_data.shape"
   ]
  },
  {
   "cell_type": "markdown",
   "metadata": {},
   "source": [
    "## b_values"
   ]
  },
  {
   "cell_type": "code",
   "execution_count": null,
   "metadata": {},
   "outputs": [],
   "source": [
    "b_values_path = 'C:/Users/panag/Desktop/Test/mgh_1001/diff/preproc/bvals.txt'"
   ]
  },
  {
   "cell_type": "code",
   "execution_count": null,
   "metadata": {},
   "outputs": [],
   "source": [
    "b_values = np.genfromtxt(b_values_path)"
   ]
  },
  {
   "cell_type": "code",
   "execution_count": null,
   "metadata": {},
   "outputs": [],
   "source": [
    "print(np.unique(b_values))"
   ]
  },
  {
   "cell_type": "markdown",
   "metadata": {},
   "source": [
    "## direction_vectors"
   ]
  },
  {
   "cell_type": "code",
   "execution_count": null,
   "metadata": {},
   "outputs": [],
   "source": [
    "direction_vectors_path = 'C:/Users/panag/Desktop/Test/mgh_1001/diff/preproc/bvecs_moco_norm.txt'"
   ]
  },
  {
   "cell_type": "code",
   "execution_count": null,
   "metadata": {},
   "outputs": [],
   "source": [
    "direction_vectors = np.genfromtxt(direction_vectors_path)"
   ]
  },
  {
   "cell_type": "code",
   "execution_count": null,
   "metadata": {},
   "outputs": [],
   "source": [
    "print(np.unique(direction_vectors, axis=0).shape)"
   ]
  },
  {
   "cell_type": "code",
   "execution_count": null,
   "metadata": {},
   "outputs": [],
   "source": [
    "def create_sphere_surface(radius):\n",
    "    \n",
    "    theta = np.linspace(0,2.*np.pi,100)\n",
    "    phi = np.linspace(0,np.pi,100)\n",
    "    x = radius * np.outer(np.cos(theta),np.sin(phi))\n",
    "    y = radius * np.outer(np.sin(theta),np.sin(phi))\n",
    "    z = radius * np.outer(np.ones(np.size(theta)),np.cos(phi))\n",
    "    \n",
    "    return x, y, z"
   ]
  },
  {
   "cell_type": "code",
   "execution_count": null,
   "metadata": {},
   "outputs": [],
   "source": [
    "\n",
    "# Create sphere surface\n",
    "x, y, z = create_sphere_surface(radius=1)\n",
    "spere = go.Surface(x=x, y=y, z=z, colorscale='Greys', showscale=False, opacity=0.1)\n",
    "\n",
    "# Create scatter plot\n",
    "scatter = go.Scatter3d(\n",
    "    x=direction_vectors[:,0],\n",
    "    y=direction_vectors[:,1],\n",
    "    z=direction_vectors[:,2],\n",
    "    mode='markers',\n",
    "    marker=dict(\n",
    "        size=3,\n",
    "        color=np.linalg.norm(direction_vectors, axis=1),\n",
    "        colorscale='Picnic',\n",
    "    ),\n",
    ")\n",
    "\n",
    "# Create figure\n",
    "fig = go.Figure(data=[spere, scatter])\n",
    "\n",
    "fig.update_layout(\n",
    "    autosize=False,\n",
    "    width=800,\n",
    "    height=800,\n",
    ")\n",
    "\n",
    "fig.show()"
   ]
  },
  {
   "cell_type": "markdown",
   "metadata": {},
   "source": [
    "## b_values * direction_vectors"
   ]
  },
  {
   "cell_type": "code",
   "execution_count": null,
   "metadata": {},
   "outputs": [],
   "source": [
    "magnitude_vectors = np.multiply(b_values[:, np.newaxis], direction_vectors)"
   ]
  },
  {
   "cell_type": "code",
   "execution_count": null,
   "metadata": {},
   "outputs": [],
   "source": [
    "# Create sphere surfaces\n",
    "spheres = []\n",
    "for b_value in np.unique(b_values):\n",
    "    x, y, z = create_sphere_surface(b_value)\n",
    "    spheres.append(go.Surface(x=x, y=y, z=z, colorscale='Greys', showscale=False, opacity=0.1))\n",
    "\n",
    "# Create scatter plot\n",
    "scatter = go.Scatter3d(\n",
    "    x=magnitude_vectors[:,0],\n",
    "    y=magnitude_vectors[:,1],\n",
    "    z=magnitude_vectors[:,2],\n",
    "    mode='markers',\n",
    "    marker=dict(\n",
    "        size=3,\n",
    "        color=np.linalg.norm(magnitude_vectors, axis=1),\n",
    "        colorscale='Viridis',\n",
    "    ),\n",
    ")\n",
    "\n",
    "# Add scatter plot and spheres surface to figure\n",
    "fig = go.Figure(data=[scatter]+spheres)\n",
    "\n",
    "fig.update_layout(\n",
    "    autosize=False,\n",
    "    width=800,\n",
    "    height=800,\n",
    ")\n",
    "\n",
    "fig.show()"
   ]
  },
  {
   "cell_type": "markdown",
   "metadata": {},
   "source": [
    "## voxel_data"
   ]
  },
  {
   "cell_type": "code",
   "execution_count": null,
   "metadata": {},
   "outputs": [],
   "source": [
    "# voxel_data = nii_data[44, 53, 20, :]\n",
    "# np.save('./voxel_data.npy', voxel_data)"
   ]
  },
  {
   "cell_type": "code",
   "execution_count": null,
   "metadata": {},
   "outputs": [],
   "source": [
    "voxel_data = np.load('./voxel_data.npy')"
   ]
  },
  {
   "cell_type": "code",
   "execution_count": null,
   "metadata": {},
   "outputs": [],
   "source": [
    "fig = go.Figure(data=[go.Histogram(x=voxel_data)])\n",
    "fig.show()"
   ]
  },
  {
   "cell_type": "markdown",
   "metadata": {},
   "source": [
    "## voxel_magnitude_vectors"
   ]
  },
  {
   "cell_type": "code",
   "execution_count": null,
   "metadata": {},
   "outputs": [],
   "source": [
    "voxel_magnitude_vectors = np.multiply(voxel_data[:, np.newaxis], magnitude_vectors)"
   ]
  },
  {
   "cell_type": "code",
   "execution_count": null,
   "metadata": {},
   "outputs": [],
   "source": [
    "# Create scatter plot\n",
    "scatter = go.Scatter3d(\n",
    "    x=voxel_magnitude_vectors[:,0],\n",
    "    y=voxel_magnitude_vectors[:,1],\n",
    "    z=voxel_magnitude_vectors[:,2],\n",
    "    mode='markers',\n",
    "    marker=dict(\n",
    "        size=3,\n",
    "        color=np.linalg.norm(voxel_magnitude_vectors, axis=1),\n",
    "        colorscale='Viridis',\n",
    "    ),\n",
    ")\n",
    "\n",
    "# Add scatter plot and spheres surface to figure\n",
    "fig = go.Figure(data=[scatter])\n",
    "\n",
    "fig.update_layout(\n",
    "    autosize=False,\n",
    "    width=800,\n",
    "    height=800,\n",
    ")\n",
    "\n",
    "fig.show()"
   ]
  }
 ],
 "metadata": {
  "kernelspec": {
   "display_name": ".venv",
   "language": "python",
   "name": "python3"
  },
  "language_info": {
   "codemirror_mode": {
    "name": "ipython",
    "version": 3
   },
   "file_extension": ".py",
   "mimetype": "text/x-python",
   "name": "python",
   "nbconvert_exporter": "python",
   "pygments_lexer": "ipython3",
   "version": "3.10.5"
  }
 },
 "nbformat": 4,
 "nbformat_minor": 2
}
