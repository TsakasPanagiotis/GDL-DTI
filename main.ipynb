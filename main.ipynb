{
 "cells": [
  {
   "cell_type": "markdown",
   "metadata": {},
   "source": [
    "# make this fully parameterized"
   ]
  },
  {
   "cell_type": "markdown",
   "metadata": {},
   "source": [
    "S0 in range [100, 2_000] with 100 std around mean S0 of the voxel  \n",
    "b either 0 or 1_000  \n",
    "100 gradient vectors uniformly distributed on sphere  \n",
    "10 measurements for b = 0 per voxel  \n",
    "100 measurements for b = 1_000 per voxel  \n",
    "1_000_000 voxels in total  "
   ]
  },
  {
   "cell_type": "code",
   "execution_count": 2,
   "metadata": {},
   "outputs": [],
   "source": [
    "import torch\n",
    "from typing import Tuple\n",
    "import scipy"
   ]
  },
  {
   "cell_type": "code",
   "execution_count": null,
   "metadata": {},
   "outputs": [],
   "source": [
    "def exp_model(S0: float, b: float, D: np.ndarray, g: np.ndarray) -> float:\n",
    "    '''\n",
    "    Implements the Stejskal-Tanner equation.\n",
    "\n",
    "    Parameters:\n",
    "    S0 (float): The baseline signal intensity.\n",
    "    b (float): The b-value.\n",
    "    D (numpy.ndarray): The diffusion tensor. Shape (3, 3).\n",
    "    g (numpy.ndarray): The gradient vector. Shape (3,).\n",
    "\n",
    "    Returns:\n",
    "    S (float): The expected signal intensity.\n",
    "    '''\n",
    "\n",
    "    return S0 * np.exp(-b * g @ D @ g)"
   ]
  },
  {
   "cell_type": "code",
   "execution_count": null,
   "metadata": {},
   "outputs": [],
   "source": [
    "def sample_single_S0(lower_bound: float, upper_bound: float) -> float:\n",
    "    '''\n",
    "    Chooses a random S0 value from a uniform distribution.\n",
    "\n",
    "    Parameters:\n",
    "    lower_bound (float): The lower bound of the uniform distribution.\n",
    "    upper_bound (float): The upper bound of the uniform distribution.\n",
    "\n",
    "    Returns:\n",
    "    S0 (float): The chosen S0 value.\n",
    "    '''\n",
    "\n",
    "    return np.random.uniform(lower_bound, upper_bound)"
   ]
  },
  {
   "cell_type": "code",
   "execution_count": null,
   "metadata": {},
   "outputs": [],
   "source": [
    "def sample_multiple_S0(mean_S0: float, std_S0: float, n: int) -> np.ndarray:\n",
    "    '''\n",
    "    Samples n S0 values from a normal distribution.\n",
    "\n",
    "    Parameters:\n",
    "    mean_S0 (float): The mean of the normal distribution.\n",
    "    std_S0 (float): The standard deviation of the normal distribution.\n",
    "    n (int): The number of samples to take.\n",
    "\n",
    "    Returns:\n",
    "    S0 (numpy.ndarray): The sampled S0 values. Shape (n,).\n",
    "    '''\n",
    "\n",
    "    return np.random.normal(mean_S0, std_S0, n)"
   ]
  },
  {
   "cell_type": "code",
   "execution_count": null,
   "metadata": {},
   "outputs": [],
   "source": [
    "def sample_gradients(n: int) -> np.ndarray:\n",
    "    '''\n",
    "    Samples n gradient vectors from a uniform distribution on the unit sphere.\n",
    "\n",
    "    Parameters:\n",
    "    n (int): The number of gradient vectors to sample.\n",
    "\n",
    "    Returns:\n",
    "    g (numpy.ndarray): The sampled gradient vectors. Shape (n, 3).\n",
    "    '''\n",
    "\n",
    "    # Sample n angles from a uniform distribution on [0, 2pi].\n",
    "    theta_angles = np.random.uniform(0, 2 * np.pi, n)\n",
    "\n",
    "    # Sample n angles from a uniform distribution on [0, pi].\n",
    "    phi_angles = np.random.uniform(0, np.pi, n)\n",
    "\n",
    "    # Convert the angles to cartesian coordinates.\n",
    "    x = np.sin(phi_angles) * np.cos(theta_angles)\n",
    "    y = np.sin(phi_angles) * np.sin(theta_angles)\n",
    "    z = np.cos(phi_angles)\n",
    "\n",
    "    # Stack the coordinates together\n",
    "    g = np.stack((x, y, z), axis=-1)\n",
    "\n",
    "    return g"
   ]
  },
  {
   "cell_type": "code",
   "execution_count": null,
   "metadata": {},
   "outputs": [],
   "source": [
    "single_S0 = sample_single_S0(0, 1000)\n",
    "print(single_S0)\n",
    "multiple_S0 = sample_multiple_S0(single_S0, 100, 10)\n",
    "print(multiple_S0)"
   ]
  },
  {
   "cell_type": "code",
   "execution_count": null,
   "metadata": {},
   "outputs": [],
   "source": [
    "gradients = sample_gradients(10)\n",
    "print(gradients)"
   ]
  },
  {
   "cell_type": "code",
   "execution_count": 81,
   "metadata": {},
   "outputs": [],
   "source": [
    "def create_random_diffusion_tensor() -> torch.Tensor:\n",
    "    '''\n",
    "    Creates a random diffusion tensor. \n",
    "    The tensor is symmetric and positive-definite.\n",
    "\n",
    "    Returns:\n",
    "    D (torch.Tensor): The diffusion tensor. Shape (3, 3).\n",
    "    '''\n",
    "\n",
    "    # Create a random lower triangular matrix with positive diagonal elements.\n",
    "    L = torch.tril(torch.rand(3, 3)) + torch.eye(3)\n",
    "\n",
    "    # Get diffusion tensor by Cholesky composition.\n",
    "    D = L @ L.T\n",
    "\n",
    "    return D"
   ]
  },
  {
   "cell_type": "markdown",
   "metadata": {},
   "source": [
    "# polar decomposition"
   ]
  },
  {
   "cell_type": "code",
   "execution_count": 82,
   "metadata": {},
   "outputs": [],
   "source": [
    "def polar_decomposition(D: torch.Tensor) \\\n",
    "    -> Tuple[torch.Tensor, torch.Tensor, torch.Tensor, torch.Tensor, torch.Tensor, torch.Tensor]:\n",
    "    '''\n",
    "    Calculates the polar decomposition parameters of a diffusion tensor.\n",
    "\n",
    "    Parameters:\n",
    "    D (torch.Tensor): The diffusion tensor. Shape (3, 3).\n",
    "\n",
    "    Returns:\n",
    "    angle_x (torch.Tensor): The angle of rotation around the x-axis.\n",
    "    angle_y (torch.Tensor): The angle of rotation around the y-axis.\n",
    "    angle_z (torch.Tensor): The angle of rotation around the z-axis.\n",
    "    eig_val_1 (torch.Tensor): The eigenvalue of the first eigenvector.\n",
    "    eig_val_2 (torch.Tensor): The eigenvalue of the second eigenvector.\n",
    "    eig_val_3 (torch.Tensor): The eigenvalue of the third eigenvector.\n",
    "    '''\n",
    "\n",
    "    # Calculate the eigenvalues and eigenvectors.\n",
    "    eig_vals, eig_vecs = torch.linalg.eigh(D)\n",
    "\n",
    "    # Sort the eigenvalues and eigenvectors.\n",
    "    eig_vals, indices = torch.sort(eig_vals, descending=True)\n",
    "    eig_vecs = eig_vecs[:, indices]\n",
    "\n",
    "    # Calculate the angles of rotation.\n",
    "    angle_x = torch.atan2(eig_vecs[2, 1], eig_vecs[2, 2])\n",
    "    angle_y = torch.atan2(-eig_vecs[2, 0], torch.sqrt(eig_vecs[2, 1] ** 2 + eig_vecs[2, 2] ** 2))\n",
    "    angle_z = torch.atan2(eig_vecs[1, 0], eig_vecs[0, 0])\n",
    "\n",
    "    # Get the eigenvalues.\n",
    "    eig_val_1 = eig_vals[0]\n",
    "    eig_val_2 = eig_vals[1]\n",
    "    eig_val_3 = eig_vals[2]\n",
    "\n",
    "    return angle_x, angle_y, angle_z, eig_val_1, eig_val_2, eig_val_3"
   ]
  },
  {
   "cell_type": "code",
   "execution_count": 83,
   "metadata": {},
   "outputs": [],
   "source": [
    "def polar_composition(\n",
    "        angle_x: torch.Tensor, angle_y: torch.Tensor, angle_z: torch.Tensor,\n",
    "        eig_val_1: torch.Tensor, eig_val_2: torch.Tensor, eig_val_3: torch.Tensor\n",
    "    ) -> torch.Tensor:\n",
    "    '''\n",
    "    Reconstructs the tensor diffusion tensor from the polar decomposition parameters.\n",
    "    \n",
    "    Parameters:\n",
    "    angle_x (torch.Tensor): The angle of rotation around the x-axis.\n",
    "    angle_y (torch.Tensor): The angle of rotation around the y-axis.\n",
    "    angle_z (torch.Tensor): The angle of rotation around the z-axis.\n",
    "    eig_val_1 (torch.Tensor): The eigenvalue of the first eigenvector.\n",
    "    eig_val_2 (torch.Tensor): The eigenvalue of the second eigenvector.\n",
    "    eig_val_3 (torch.Tensor): The eigenvalue of the third eigenvector.\n",
    "\n",
    "    Returns:\n",
    "    D (torch.Tensor): The reconstructed diffusion tensor. Shape (3, 3).\n",
    "    '''\n",
    "\n",
    "    # Calculate the rotation matrices.\n",
    "    R_x = torch.tensor([\n",
    "        [1, 0, 0],\n",
    "        [0, torch.cos(angle_x), -torch.sin(angle_x)],\n",
    "        [0, torch.sin(angle_x), torch.cos(angle_x)]\n",
    "    ])\n",
    "    R_y = torch.tensor([\n",
    "        [torch.cos(angle_y), 0, torch.sin(angle_y)],\n",
    "        [0, 1, 0],\n",
    "        [-torch.sin(angle_y), 0, torch.cos(angle_y)]\n",
    "    ])\n",
    "    R_z = torch.tensor([\n",
    "        [torch.cos(angle_z), -torch.sin(angle_z), 0],\n",
    "        [torch.sin(angle_z), torch.cos(angle_z), 0],\n",
    "        [0, 0, 1]\n",
    "    ])\n",
    "\n",
    "    # Calculate the rotation matrix.\n",
    "    R = R_z @ R_y @ R_x\n",
    "\n",
    "    # Calculate the diagonal matrix of eigenvalues.\n",
    "    eig_vals = torch.tensor([\n",
    "        [eig_val_1, 0, 0],\n",
    "        [0, eig_val_2, 0],\n",
    "        [0, 0, eig_val_3]\n",
    "    ])\n",
    "\n",
    "    # Reconstruct the diffusion tensor.\n",
    "    D = R @ eig_vals @ R.T\n",
    "\n",
    "    return D"
   ]
  },
  {
   "cell_type": "code",
   "execution_count": 85,
   "metadata": {},
   "outputs": [
    {
     "name": "stdout",
     "output_type": "stream",
     "text": [
      "20.66% correct\n"
     ]
    }
   ],
   "source": [
    "total = 0\n",
    "correct = 0\n",
    "\n",
    "for i in range(10_000):\n",
    "\n",
    "    # reconstruct diffusion tensor\n",
    "    D = create_random_diffusion_tensor()\n",
    "\n",
    "    # check if the tensor has Cholesky decomposition\n",
    "    try:\n",
    "        torch.linalg.cholesky(D)\n",
    "    except:\n",
    "        print(i, 'No Cholesky decomposition!')\n",
    "        break\n",
    "\n",
    "    D_ = polar_composition(*polar_decomposition(D))\n",
    "\n",
    "    if torch.allclose(D, D_):\n",
    "        correct += 1\n",
    "    \n",
    "    total += 1\n",
    "\n",
    "print(f'{100*correct/total:.2f}% correct')"
   ]
  },
  {
   "cell_type": "code",
   "execution_count": 86,
   "metadata": {},
   "outputs": [
    {
     "name": "stdout",
     "output_type": "stream",
     "text": [
      "34.91% correct\n"
     ]
    }
   ],
   "source": [
    "total = 0\n",
    "correct = 0\n",
    "\n",
    "for i in range(10_000):\n",
    "\n",
    "    # create random angles in radians and range [0, 2pi]\n",
    "    angle_x = torch.rand(1) * 2 * torch.pi\n",
    "    angle_y = torch.rand(1) * 2 * torch.pi\n",
    "    angle_z = torch.rand(1) * 2 * torch.pi\n",
    "\n",
    "    # create random eigenvalues in range [0, 1] and descending order\n",
    "    eig_val_1 = torch.rand(1)\n",
    "    eig_val_2 = torch.rand(1) * eig_val_1\n",
    "    eig_val_3 = torch.rand(1) * eig_val_2\n",
    "\n",
    "    # reconstruct diffusion tensor\n",
    "    D = polar_composition(angle_x, angle_y, angle_z, eig_val_1, eig_val_2, eig_val_3)\n",
    "\n",
    "    # check if the tensor has Cholesky decomposition\n",
    "    try:\n",
    "        torch.linalg.cholesky(D)\n",
    "    except:\n",
    "        print(i, 'No Cholesky decomposition!')\n",
    "        break\n",
    "\n",
    "    # decompose the tensor\n",
    "    angle_x_, angle_y_, angle_z_, eig_val_1_, eig_val_2_, eig_val_3_ = polar_decomposition(D)\n",
    "\n",
    "    # reconstruct the tensor\n",
    "    D_ = polar_composition(angle_x_, angle_y_, angle_z_, eig_val_1_, eig_val_2_, eig_val_3_)\n",
    "\n",
    "    if torch.allclose(D, D_):\n",
    "        correct += 1\n",
    "    \n",
    "    total += 1\n",
    "    \n",
    "print(f'{100*correct/total:.2f}% correct')"
   ]
  },
  {
   "cell_type": "markdown",
   "metadata": {},
   "source": [
    "# quaternion decomposition"
   ]
  },
  {
   "cell_type": "code",
   "execution_count": 87,
   "metadata": {},
   "outputs": [],
   "source": [
    "def quaternion_decomposition(D: torch.Tensor) \\\n",
    "    -> Tuple[torch.Tensor, torch.Tensor, torch.Tensor, torch.Tensor]:\n",
    "    '''\n",
    "    Calculates the quaternion decomposition parameters of a diffusion tensor.\n",
    "\n",
    "    Parameters:\n",
    "    D (torch.Tensor): The diffusion tensor. Shape (3, 3).\n",
    "\n",
    "    Returns:\n",
    "    q (torch.Tensor): The quaternion parameters. Shape (4,).\n",
    "    eig_val_1 (torch.Tensor): The eigenvalue of the first eigenvector.\n",
    "    eig_val_2 (torch.Tensor): The eigenvalue of the second eigenvector.\n",
    "    eig_val_3 (torch.Tensor): The eigenvalue of the third eigenvector.\n",
    "    '''\n",
    "    # Calculate the eigenvalues and eigenvectors.\n",
    "    eig_vals, eig_vecs = torch.linalg.eigh(D)\n",
    "\n",
    "    # Sort the eigenvalues and eigenvectors.\n",
    "    eig_vals, indices = torch.sort(eig_vals, descending=True)\n",
    "    eig_vecs = eig_vecs[:, indices]\n",
    "    \n",
    "    # Get the eigenvalues.\n",
    "    eig_val_1 = eig_vals[0]\n",
    "    eig_val_2 = eig_vals[1]\n",
    "    eig_val_3 = eig_vals[2]\n",
    "\n",
    "    # Calculate quaternion\n",
    "    q0 = torch.sqrt(1 + eig_vecs[0, 0] + eig_vecs[1, 1] + eig_vecs[2, 2]) / 2\n",
    "    q1 = (eig_vecs[2, 1] - eig_vecs[1, 2]) / (4 * q0)\n",
    "    q2 = (eig_vecs[0, 2] - eig_vecs[2, 0]) / (4 * q0)\n",
    "    q3 = (eig_vecs[1, 0] - eig_vecs[0, 1]) / (4 * q0)\n",
    "\n",
    "    # Normalize the quaternion\n",
    "    q = torch.tensor([q0, q1, q2, q3])\n",
    "    q /= torch.linalg.norm(q)\n",
    "\n",
    "    return q, eig_val_1, eig_val_2, eig_val_3  "
   ]
  },
  {
   "cell_type": "code",
   "execution_count": 88,
   "metadata": {},
   "outputs": [],
   "source": [
    "def quaternion_composition(q: torch.Tensor, eig_val_1: torch.Tensor, \n",
    "                           eig_val_2: torch.Tensor, eig_val_3: torch.Tensor) -> torch.Tensor:\n",
    "    '''\n",
    "    Reconstructs the tensor diffusion tensor from the quaternion decomposition parameters.\n",
    "\n",
    "    Parameters:\n",
    "    q (torch.Tensor): The quaternion parameters. Shape (4,).\n",
    "    eig_val_1 (torch.Tensor): The eigenvalue of the first eigenvector.\n",
    "    eig_val_2 (torch.Tensor): The eigenvalue of the second eigenvector.\n",
    "    eig_val_3 (torch.Tensor): The eigenvalue of the third eigenvector.\n",
    "\n",
    "    Returns:\n",
    "    D (torch.Tensor): The reconstructed diffusion tensor. Shape (3, 3).\n",
    "    '''\n",
    "\n",
    "    # Calculate rotation matrix\n",
    "    R = torch.tensor([\n",
    "        [1 - 2*q[2]**2 - 2*q[3]**2, 2*q[1]*q[2] - 2*q[0]*q[3], 2*q[1]*q[3] + 2*q[0]*q[2]],\n",
    "        [2*q[1]*q[2] + 2*q[0]*q[3], 1 - 2*q[1]**2 - 2*q[3]**2, 2*q[2]*q[3] - 2*q[0]*q[1]],\n",
    "        [2*q[1]*q[3] - 2*q[0]*q[2], 2*q[2]*q[3] + 2*q[0]*q[1], 1 - 2*q[1]**2 - 2*q[2]**2]\n",
    "    ])\n",
    "\n",
    "    # Calculate the diagonal matrix of eigenvalues.\n",
    "    eig_vals = torch.tensor([\n",
    "        [eig_val_1, 0, 0],\n",
    "        [0, eig_val_2, 0],\n",
    "        [0, 0, eig_val_3]\n",
    "    ])\n",
    "\n",
    "    # Reconstruct the diffusion tensor.\n",
    "    D = R @ eig_vals @ R.T\n",
    "\n",
    "    return D"
   ]
  },
  {
   "cell_type": "code",
   "execution_count": 100,
   "metadata": {},
   "outputs": [
    {
     "name": "stdout",
     "output_type": "stream",
     "text": [
      "19.41% correct\n"
     ]
    }
   ],
   "source": [
    "total = 0\n",
    "correct = 0\n",
    "\n",
    "for i in range(10_000):\n",
    "\n",
    "    # reconstruct diffusion tensor\n",
    "    D = create_random_diffusion_tensor()\n",
    "\n",
    "    # check if the tensor has Cholesky decomposition\n",
    "    try:\n",
    "        torch.linalg.cholesky(D)\n",
    "    except:\n",
    "        print(i, 'No Cholesky decomposition!')\n",
    "        break\n",
    "\n",
    "    D_ = quaternion_composition(*quaternion_decomposition(D))\n",
    "\n",
    "    if torch.allclose(D, D_):\n",
    "        correct += 1\n",
    "    \n",
    "    total += 1\n",
    "\n",
    "print(f'{100*correct/total:.2f}% correct')"
   ]
  },
  {
   "cell_type": "code",
   "execution_count": 101,
   "metadata": {},
   "outputs": [
    {
     "name": "stdout",
     "output_type": "stream",
     "text": [
      "30.56% correct\n"
     ]
    }
   ],
   "source": [
    "total = 0\n",
    "correct = 0\n",
    "\n",
    "for i in range(10_000):\n",
    "\n",
    "    # create random quaternion with values in range [-1, 1]\n",
    "    q = torch.rand(4) * 2 - 1\n",
    "\n",
    "    # normalize the quaternion\n",
    "    q /= torch.linalg.norm(q)\n",
    "\n",
    "    # create random eigenvalues in range [0, 1] and descending order\n",
    "    eig_val_1 = torch.rand(1)\n",
    "    eig_val_2 = torch.rand(1) * eig_val_1\n",
    "    eig_val_3 = torch.rand(1) * eig_val_2\n",
    "\n",
    "    # reconstruct diffusion tensor\n",
    "    D = quaternion_composition(q, eig_val_1, eig_val_2, eig_val_3)\n",
    "\n",
    "    # check if the tensor has Cholesky decomposition\n",
    "    try:\n",
    "        torch.linalg.cholesky(D)\n",
    "    except:\n",
    "        print(i, 'No Cholesky decomposition!')\n",
    "        break\n",
    "\n",
    "    # decompose the tensor\n",
    "    q_, eig_val_1_, eig_val_2_, eig_val_3_ = quaternion_decomposition(D)\n",
    "\n",
    "    # reconstruct the tensor\n",
    "    D_ = quaternion_composition(q_, eig_val_1_, eig_val_2_, eig_val_3_)\n",
    "\n",
    "    if torch.allclose(D, D_):\n",
    "        correct += 1\n",
    "    \n",
    "    total += 1\n",
    "    \n",
    "print(f'{100*correct/total:.2f}% correct')"
   ]
  }
 ],
 "metadata": {
  "kernelspec": {
   "display_name": ".venv",
   "language": "python",
   "name": "python3"
  },
  "language_info": {
   "codemirror_mode": {
    "name": "ipython",
    "version": 3
   },
   "file_extension": ".py",
   "mimetype": "text/x-python",
   "name": "python",
   "nbconvert_exporter": "python",
   "pygments_lexer": "ipython3",
   "version": "3.10.5"
  }
 },
 "nbformat": 4,
 "nbformat_minor": 2
}
