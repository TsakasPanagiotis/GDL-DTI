{
 "cells": [
  {
   "cell_type": "code",
   "execution_count": 1,
   "metadata": {},
   "outputs": [],
   "source": [
    "import torch\n",
    "from typing import Tuple\n",
    "import pickle\n",
    "import numpy as np\n",
    "from tqdm import tqdm"
   ]
  },
  {
   "cell_type": "code",
   "execution_count": 2,
   "metadata": {},
   "outputs": [],
   "source": [
    "# hyperparameters\n",
    "\n",
    "SNR = 20\n",
    "lstsq_method = 'non-linear' # 'linear' or 'non-linear'"
   ]
  },
  {
   "cell_type": "code",
   "execution_count": 3,
   "metadata": {},
   "outputs": [
    {
     "data": {
      "text/plain": [
       "(552,)"
      ]
     },
     "execution_count": 3,
     "metadata": {},
     "output_type": "execute_result"
    }
   ],
   "source": [
    "# load b-values from data\n",
    "\n",
    "b_values_path = 'C:/Users/panag/Desktop/Test/mgh_1001/diff/preproc/bvals.txt'\n",
    "b_values = np.genfromtxt(b_values_path)\n",
    "b_values[(b_values > 9_900) & (b_values < 10_100)] = 10_000\n",
    "b_values /= 1_000.0\n",
    "\n",
    "b_values.shape"
   ]
  },
  {
   "cell_type": "code",
   "execution_count": 4,
   "metadata": {},
   "outputs": [
    {
     "data": {
      "text/plain": [
       "(552, 3)"
      ]
     },
     "execution_count": 4,
     "metadata": {},
     "output_type": "execute_result"
    }
   ],
   "source": [
    "# load gradients from data\n",
    "\n",
    "direction_vectors_path = 'C:/Users/panag/Desktop/Test/mgh_1001/diff/preproc/bvecs_moco_norm.txt'\n",
    "direction_vectors = np.genfromtxt(direction_vectors_path)\n",
    "\n",
    "direction_vectors.shape"
   ]
  },
  {
   "cell_type": "code",
   "execution_count": 5,
   "metadata": {},
   "outputs": [],
   "source": [
    "# load lstsq_results\n",
    "\n",
    "lstsq_results: dict[Tuple[float, float, float], np.ndarray]\n",
    "\n",
    "if lstsq_method == 'linear':\n",
    "    with open('lstsq_results_linear.pkl', 'rb') as f:\n",
    "        lstsq_results = pickle.load(f)\n",
    "\n",
    "elif lstsq_method == 'non-linear':\n",
    "    with open('non_linear_lstsq_results.pkl', 'rb') as f:\n",
    "        lstsq_results = pickle.load(f)\n",
    "\n",
    "else:\n",
    "    raise ValueError(f'Invalid value for lstsq_method: {lstsq_method}')"
   ]
  },
  {
   "cell_type": "code",
   "execution_count": 7,
   "metadata": {},
   "outputs": [
    {
     "name": "stderr",
     "output_type": "stream",
     "text": [
      "100%|██████████| 338645/338645 [01:00<00:00, 5635.23it/s]\n"
     ]
    }
   ],
   "source": [
    "# calculate d_tensors and noisy_signals\n",
    "\n",
    "custom_b_values = torch.from_numpy(b_values[(b_values == 0.0) | (b_values == 1.0)]).float()\n",
    "custom_gradients = torch.from_numpy(direction_vectors[(b_values == 0.0) | (b_values == 1.0)]).float()\n",
    "\n",
    "d_tensors = []\n",
    "signals = []\n",
    "noisy_signals = []\n",
    "\n",
    "for d_array in tqdm(lstsq_results.values()):\n",
    "\n",
    "    d_tensor = torch.tensor(d_array).float()\n",
    "    \n",
    "    signal = torch.exp(- custom_b_values * torch.einsum('bi, ij, bj -> b', custom_gradients, d_tensor, custom_gradients))\n",
    "    \n",
    "    noise = torch.normal(mean=torch.zeros_like(signal), std=torch.ones_like(signal) / SNR)\n",
    "\n",
    "    noisy_signal = signal + noise\n",
    "\n",
    "    noisy_signal /= torch.mean(noisy_signal[custom_b_values == 0.0])\n",
    "\n",
    "    d_tensors.append(d_tensor)\n",
    "    signals.append(signal)\n",
    "    noisy_signals.append(noisy_signal)\n",
    "\n",
    "d_tensors = torch.stack(d_tensors) # shape (num_d_tensors, 3, 3)\n",
    "signals = torch.stack(signals) # shape (num_d_tensors, len(custom_b_values))\n",
    "noisy_signals = torch.stack(noisy_signals) # shape (num_d_tensors, len(custom_b_values))"
   ]
  },
  {
   "cell_type": "code",
   "execution_count": 15,
   "metadata": {},
   "outputs": [
    {
     "name": "stdout",
     "output_type": "stream",
     "text": [
      "d_tensors.shape=torch.Size([338645, 3, 3])\n",
      "signals.shape=torch.Size([338645, 104]), \t signals.min()=tensor(0.), \t\t signals.max()=tensor(1.)\n",
      "noisy_signals.shape=torch.Size([338645, 104]), \t noisy_signals.min()=tensor(-0.2005), \t noisy_signals.max()=tensor(1.2581)\n"
     ]
    }
   ],
   "source": [
    "print(f'{d_tensors.shape=}')\n",
    "print(f'{signals.shape=}, \\t {signals.min()=}, \\t\\t {signals.max()=}')\n",
    "print(f'{noisy_signals.shape=}, \\t {noisy_signals.min()=}, \\t {noisy_signals.max()=}')"
   ]
  },
  {
   "cell_type": "code",
   "execution_count": 9,
   "metadata": {},
   "outputs": [],
   "source": [
    "# set file names\n",
    "\n",
    "d_tensors_file = f'{lstsq_method} sim d_tensors.pt'\n",
    "signals_file = f'{lstsq_method} sim signals.pt'\n",
    "noisy_signals_file = f'{lstsq_method} sim noisy_signals {SNR}.pt'"
   ]
  },
  {
   "cell_type": "code",
   "execution_count": 10,
   "metadata": {},
   "outputs": [],
   "source": [
    "# save d_tensors and noisy_signals\n",
    "\n",
    "torch.save(d_tensors, d_tensors_file)\n",
    "torch.save(signals, signals_file)\n",
    "torch.save(noisy_signals, noisy_signals_file)"
   ]
  }
 ],
 "metadata": {
  "kernelspec": {
   "display_name": ".venv",
   "language": "python",
   "name": "python3"
  },
  "language_info": {
   "codemirror_mode": {
    "name": "ipython",
    "version": 3
   },
   "file_extension": ".py",
   "mimetype": "text/x-python",
   "name": "python",
   "nbconvert_exporter": "python",
   "pygments_lexer": "ipython3",
   "version": "3.10.5"
  }
 },
 "nbformat": 4,
 "nbformat_minor": 2
}
