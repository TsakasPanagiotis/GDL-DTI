{
 "cells": [
  {
   "cell_type": "code",
   "execution_count": 1,
   "metadata": {},
   "outputs": [],
   "source": [
    "import torch\n",
    "from torch.utils.data import Dataset, DataLoader\n",
    "import time\n",
    "from functools import wraps\n",
    "from typing import Callable, Tuple, TypeVar\n",
    "import matplotlib.pyplot as plt"
   ]
  },
  {
   "cell_type": "code",
   "execution_count": 95,
   "metadata": {},
   "outputs": [],
   "source": [
    "# hyperparameters\n",
    "\n",
    "seed = 0\n",
    "SNR = 20\n",
    "batch_size = 64\n",
    "lstsq_method = 'non-linear' # 'linear' or 'non-linear'\n",
    "lr = 1e-3\n",
    "threshold_eigval = 3.5\n",
    "train_percent = 0.8"
   ]
  },
  {
   "cell_type": "code",
   "execution_count": 3,
   "metadata": {},
   "outputs": [
    {
     "name": "stdout",
     "output_type": "stream",
     "text": [
      "Using cpu device\n"
     ]
    }
   ],
   "source": [
    "device = \"cuda\" if torch.cuda.is_available() else \"cpu\"\n",
    "print(f\"Using {device} device\")"
   ]
  },
  {
   "cell_type": "code",
   "execution_count": 4,
   "metadata": {},
   "outputs": [],
   "source": [
    "# file names\n",
    "\n",
    "d_tensors_file = f'{lstsq_method} sim d_tensors.pt'\n",
    "signals_file = f'{lstsq_method} sim signals.pt'\n",
    "noisy_signals_file = f'{lstsq_method} sim noisy_signals {SNR}.pt'"
   ]
  },
  {
   "cell_type": "code",
   "execution_count": 97,
   "metadata": {},
   "outputs": [
    {
     "data": {
      "text/plain": [
       "(torch.Size([338645, 3, 3]),\n",
       " torch.Size([338645, 104]),\n",
       " torch.Size([338645, 104]))"
      ]
     },
     "execution_count": 97,
     "metadata": {},
     "output_type": "execute_result"
    }
   ],
   "source": [
    "# load d_tensors, signals and noisy_signals\n",
    "\n",
    "d_tensors = torch.load(d_tensors_file)\n",
    "signals = torch.load(signals_file)\n",
    "noisy_signals = torch.load(noisy_signals_file)\n",
    "\n",
    "d_tensors.shape, signals.shape, noisy_signals.shape"
   ]
  },
  {
   "cell_type": "code",
   "execution_count": 98,
   "metadata": {},
   "outputs": [
    {
     "name": "stdout",
     "output_type": "stream",
     "text": [
      "Threshold eigenvalue of 3.5 will keep 99.61% of the data.\n"
     ]
    },
    {
     "data": {
      "text/plain": [
       "(torch.Size([337329, 3, 3]),\n",
       " torch.Size([337329, 104]),\n",
       " torch.Size([337329, 104]))"
      ]
     },
     "execution_count": 98,
     "metadata": {},
     "output_type": "execute_result"
    }
   ],
   "source": [
    "# filter d_tensors, signals and noisy_signals by maximum eigenvalue lower than 3.5\n",
    "\n",
    "eigenvalues = torch.linalg.eigvalsh(d_tensors)\n",
    "filter_indices = torch.where(eigenvalues[:,-1] <= threshold_eigval)[0]\n",
    "\n",
    "print(f'Threshold eigenvalue of {threshold_eigval} will keep {100 * len(filter_indices) / len(eigenvalues):.2f}% of the data.')\n",
    "\n",
    "d_tensors = d_tensors[filter_indices]\n",
    "signals = signals[filter_indices]\n",
    "noisy_signals = noisy_signals[filter_indices]\n",
    "\n",
    "d_tensors.shape, signals.shape, noisy_signals.shape"
   ]
  },
  {
   "cell_type": "code",
   "execution_count": 39,
   "metadata": {},
   "outputs": [],
   "source": [
    "# shuffle and split indices\n",
    "\n",
    "num_data = len(d_tensors)\n",
    "num_train = int(train_percent * num_data)\n",
    "num_val = num_data - num_train\n",
    "\n",
    "generator = torch.Generator().manual_seed(seed)\n",
    "indices = torch.randperm(num_data, generator=generator)\n",
    "\n",
    "train_indices = indices[:num_train]\n",
    "val_indices = indices[num_train:]"
   ]
  },
  {
   "cell_type": "code",
   "execution_count": 40,
   "metadata": {},
   "outputs": [],
   "source": [
    "class DiffusionDataset(Dataset):\n",
    "    \n",
    "    def __init__(self, d_tensors: torch.Tensor, signals: torch.Tensor, noisy_signals: torch.Tensor):\n",
    "        super().__init__()\n",
    "        self.d_tensors = d_tensors\n",
    "        self.signals = signals\n",
    "        self.noisy_signals = noisy_signals\n",
    "\n",
    "    def __len__(self):\n",
    "        return self.d_tensors.shape[0]\n",
    "\n",
    "    def __getitem__(self, idx):\n",
    "        return self.d_tensors[idx], self.signals[idx], self.noisy_signals[idx]"
   ]
  },
  {
   "cell_type": "code",
   "execution_count": 41,
   "metadata": {},
   "outputs": [],
   "source": [
    "# create the datasets\n",
    "\n",
    "train_dataset = DiffusionDataset(d_tensors[train_indices], signals[train_indices], noisy_signals[train_indices])\n",
    "val_dataset = DiffusionDataset(d_tensors[val_indices], signals[val_indices], noisy_signals[val_indices])"
   ]
  },
  {
   "cell_type": "code",
   "execution_count": 42,
   "metadata": {},
   "outputs": [],
   "source": [
    "# create the dataloaders\n",
    "\n",
    "train_loader = DataLoader(train_dataset, batch_size=batch_size, shuffle=True, drop_last=True)\n",
    "val_loader = DataLoader(val_dataset, batch_size=batch_size, shuffle=False, drop_last=True)"
   ]
  },
  {
   "cell_type": "code",
   "execution_count": 43,
   "metadata": {},
   "outputs": [],
   "source": [
    "class PolarDiffusionNet(torch.nn.Module):\n",
    "    \n",
    "    def __init__(self, input_size: int):\n",
    "        super().__init__()\n",
    "        \n",
    "        self.input_size = input_size\n",
    "        self.hidden_size = 64\n",
    "        self.output_size = 6\n",
    "\n",
    "        self.net = torch.nn.Sequential(\n",
    "            torch.nn.Linear(self.input_size, self.hidden_size),\n",
    "            torch.nn.ReLU(),\n",
    "            torch.nn.Linear(self.hidden_size, self.hidden_size),\n",
    "            torch.nn.ReLU(),\n",
    "            torch.nn.Linear(self.hidden_size, self.output_size)\n",
    "        )\n",
    "\n",
    "    def forward(self, net_input: torch.Tensor) -> torch.Tensor:\n",
    "        net_output = self.net(net_input)\n",
    "        activated_net_output = self.activate(net_output)\n",
    "        predictions = self.reconstruct(activated_net_output)\n",
    "        return predictions\n",
    "    \n",
    "    def activate(self, net_output: torch.Tensor) -> torch.Tensor:\n",
    "        \n",
    "        # Split the tensor into individual elements\n",
    "        x_angles, y_angles, z_angles, eig_val_1, eig_val_2_over_1, eig_val_3_over_2 = torch.split(net_output, split_size_or_sections=1, dim=1)\n",
    "        \n",
    "        # Apply different activation functions to each element\n",
    "        x_angles = torch.sigmoid(x_angles)\n",
    "        y_angles = torch.sigmoid(y_angles)\n",
    "        z_angles = torch.sigmoid(z_angles)\n",
    "        eig_val_1 = torch.sigmoid(eig_val_1)\n",
    "        eig_val_2_over_1 = torch.sigmoid(eig_val_2_over_1)\n",
    "        eig_val_3_over_2 = torch.sigmoid(eig_val_3_over_2)\n",
    "\n",
    "        # Return the activated tensor\n",
    "        activated_net_output = torch.cat((x_angles, y_angles, z_angles, eig_val_1, eig_val_2_over_1, eig_val_3_over_2), dim=1)\n",
    "        \n",
    "        return activated_net_output\n",
    "    \n",
    "    def reconstruct(self, activated_net_output: torch.Tensor) -> torch.Tensor:\n",
    "        \n",
    "        # Split the tensor into individual elements\n",
    "        x_angles, y_angles, z_angles, eig_val_1, eig_val_2_over_1, eig_val_3_over_2 = torch.split(activated_net_output, split_size_or_sections=1, dim=1)      \n",
    "        \n",
    "        # Compute angles\n",
    "        x_angles = x_angles.squeeze() * 2 * torch.pi\n",
    "        y_angles = y_angles.squeeze() * 2 * torch.pi\n",
    "        z_angles = z_angles.squeeze() * 2 * torch.pi\n",
    "        \n",
    "        # Compute eigenvalues\n",
    "        eig_val_1 = eig_val_1.squeeze() * 3.5\n",
    "        eig_val_2 = eig_val_1 * eig_val_2_over_1.squeeze()\n",
    "        eig_val_3 = eig_val_2 * eig_val_3_over_2.squeeze()\n",
    "\n",
    "        # Create the roation matrices around the x axis.\n",
    "        R_x = torch.zeros((x_angles.shape[0], 3, 3))\n",
    "        R_x[:, 0, 0] = 1\n",
    "        R_x[:, 1, 1] = torch.cos(x_angles)\n",
    "        R_x[:, 1, 2] = -torch.sin(x_angles)\n",
    "        R_x[:, 2, 1] = torch.sin(x_angles)\n",
    "        R_x[:, 2, 2] = torch.cos(x_angles)\n",
    "\n",
    "        # Create the roation matrices around the y axis.\n",
    "        R_y = torch.zeros((y_angles.shape[0], 3, 3))\n",
    "        R_y[:, 0, 0] = torch.cos(y_angles)\n",
    "        R_y[:, 0, 2] = torch.sin(y_angles)\n",
    "        R_y[:, 1, 1] = 1\n",
    "        R_y[:, 2, 0] = -torch.sin(y_angles)\n",
    "        R_y[:, 2, 2] = torch.cos(y_angles)\n",
    "\n",
    "        # Create the roation matrices around the z axis.\n",
    "        R_z = torch.zeros((z_angles.shape[0], 3, 3))\n",
    "        R_z[:, 0, 0] = torch.cos(z_angles)\n",
    "        R_z[:, 0, 1] = -torch.sin(z_angles)\n",
    "        R_z[:, 1, 0] = torch.sin(z_angles)\n",
    "        R_z[:, 1, 1] = torch.cos(z_angles)\n",
    "        R_z[:, 2, 2] = 1\n",
    "\n",
    "        # Calculate the rotation matrices.\n",
    "        R = torch.bmm(R_z, torch.bmm(R_y, R_x))\n",
    "\n",
    "        # Calculate the diagonal matrix of eigenvalues.\n",
    "        eig_vals = torch.zeros((eig_val_1.shape[0], 3, 3))\n",
    "        eig_vals[:, 0, 0] = eig_val_1\n",
    "        eig_vals[:, 1, 1] = eig_val_2\n",
    "        eig_vals[:, 2, 2] = eig_val_3\n",
    "\n",
    "        # Reconstruct the diffusion tensors.\n",
    "        D = torch.bmm(R, torch.bmm(eig_vals, R.transpose(1, 2)))\n",
    "\n",
    "        return D"
   ]
  },
  {
   "cell_type": "code",
   "execution_count": 44,
   "metadata": {},
   "outputs": [],
   "source": [
    "T = TypeVar('T')\n",
    "\n",
    "def timer(func: Callable[..., T]) -> Callable[..., Tuple[T, float]]:\n",
    "    @wraps(func)\n",
    "    def wrapper(*args, **kwargs) -> Tuple[T, float]:\n",
    "        start_time = time.time()\n",
    "        result = func(*args, **kwargs)\n",
    "        end_time = time.time()\n",
    "        execution_time = end_time - start_time\n",
    "        return result, execution_time\n",
    "    return wrapper"
   ]
  },
  {
   "cell_type": "code",
   "execution_count": 45,
   "metadata": {},
   "outputs": [],
   "source": [
    "@timer\n",
    "def train(train_loader, model, loss_fn, optimizer, device):\n",
    "\n",
    "    epoch_loss = 0.0\n",
    "    model.train()\n",
    "    \n",
    "    for batch_d_tensors, batch_signals, batch_noisy_signals in train_loader:\n",
    "        \n",
    "        batch_d_tensors = batch_d_tensors.to(device)\n",
    "        batch_signals = batch_signals.to(device)\n",
    "        batch_noisy_signals = batch_noisy_signals.to(device)\n",
    "\n",
    "        pred_d_tensors = model(batch_noisy_signals)\n",
    "        \n",
    "        batch_loss = loss_fn(pred_d_tensors, batch_d_tensors)\n",
    "    \n",
    "        optimizer.zero_grad()\n",
    "        batch_loss.backward()\n",
    "        optimizer.step()\n",
    "\n",
    "        epoch_loss += batch_loss.item()\n",
    "        \n",
    "    epoch_loss /= len(train_loader)\n",
    "\n",
    "    return epoch_loss"
   ]
  },
  {
   "cell_type": "code",
   "execution_count": 46,
   "metadata": {},
   "outputs": [],
   "source": [
    "@timer\n",
    "def validate(val_loader, model, loss_fn, device):\n",
    "\n",
    "    epoch_loss = 0.0\n",
    "    model.eval()\n",
    "    \n",
    "    with torch.no_grad():\n",
    "        \n",
    "        for batch_d_tensors, batch_signals, batch_noisy_signals in val_loader:\n",
    "\n",
    "            batch_d_tensors = batch_d_tensors.to(device)\n",
    "            batch_signals = batch_signals.to(device)\n",
    "            batch_noisy_signals = batch_noisy_signals.to(device)\n",
    "\n",
    "            pred_d_tensors = model(batch_noisy_signals)\n",
    "\n",
    "            batch_loss = loss_fn(pred_d_tensors, batch_d_tensors)\n",
    "\n",
    "            epoch_loss += batch_loss.item()\n",
    "        \n",
    "    epoch_loss /= len(val_loader)\n",
    "\n",
    "    return epoch_loss"
   ]
  },
  {
   "cell_type": "code",
   "execution_count": 47,
   "metadata": {},
   "outputs": [],
   "source": [
    "# (re)set the model, loss function, optimizer and buffers\n",
    "\n",
    "polar_dnet = PolarDiffusionNet(input_size=signals.shape[1]).to(device)\n",
    "loss_fn = torch.nn.MSELoss()\n",
    "optimizer = torch.optim.AdamW(polar_dnet.parameters(), lr=lr)\n",
    "\n",
    "train_losses = []\n",
    "val_losses = []\n",
    "epochs = []"
   ]
  },
  {
   "cell_type": "code",
   "execution_count": 55,
   "metadata": {},
   "outputs": [
    {
     "name": "stdout",
     "output_type": "stream",
     "text": [
      "Epoch: 31/40 -  Train Loss: 0.00367030 -  Eval Loss: 0.00356978 -  Train Time: 26.45 -  Eval Time: 2.29\n",
      "Epoch: 32/40 -  Train Loss: 0.00361330 -  Eval Loss: 0.00370803 -  Train Time: 29.01 -  Eval Time: 2.42\n",
      "Epoch: 33/40 -  Train Loss: 0.00365101 -  Eval Loss: 0.00346676 -  Train Time: 35.47 -  Eval Time: 2.92\n",
      "Epoch: 34/40 -  Train Loss: 0.00362974 -  Eval Loss: 0.00365119 -  Train Time: 26.14 -  Eval Time: 2.51\n",
      "Epoch: 35/40 -  Train Loss: 0.00364886 -  Eval Loss: 0.00335596 -  Train Time: 31.25 -  Eval Time: 2.52\n",
      "Epoch: 36/40 -  Train Loss: 0.00362433 -  Eval Loss: 0.00355270 -  Train Time: 37.87 -  Eval Time: 2.79\n",
      "Epoch: 37/40 -  Train Loss: 0.00361507 -  Eval Loss: 0.00383372 -  Train Time: 23.02 -  Eval Time: 1.87\n",
      "Epoch: 38/40 -  Train Loss: 0.00359179 -  Eval Loss: 0.00393111 -  Train Time: 22.82 -  Eval Time: 1.77\n",
      "Epoch: 39/40 -  Train Loss: 0.00366180 -  Eval Loss: 0.00365256 -  Train Time: 21.27 -  Eval Time: 1.41\n",
      "Epoch: 40/40 -  Train Loss: 0.00361063 -  Eval Loss: 0.00366227 -  Train Time: 17.02 -  Eval Time: 1.54\n"
     ]
    }
   ],
   "source": [
    "# train the model\n",
    "\n",
    "num_epochs = 10\n",
    "\n",
    "last_epoch = epochs[-1] if epochs else 0\n",
    "\n",
    "for epoch in range(last_epoch, last_epoch + num_epochs):\n",
    "        \n",
    "      epoch_train_loss, train_time = train(train_loader, polar_dnet, loss_fn, optimizer, device)\n",
    "      epoch_val_loss, eval_time = validate(val_loader, polar_dnet, loss_fn, device)\n",
    "\n",
    "      train_losses.append(epoch_train_loss)\n",
    "      val_losses.append(epoch_val_loss)\n",
    "      epochs.append(epoch + 1)\n",
    "\n",
    "      print(f'Epoch: {epoch + 1}/{last_epoch + num_epochs} - ',\n",
    "            f'Train Loss: {epoch_train_loss:.8f} - ',\n",
    "            f'Eval Loss: {epoch_val_loss:.8f} - ',\n",
    "            f'Train Time: {train_time:.2f} - ',\n",
    "            f'Eval Time: {eval_time:.2f}')"
   ]
  },
  {
   "cell_type": "code",
   "execution_count": 56,
   "metadata": {},
   "outputs": [
    {
     "data": {
      "image/png": "[encoded data removed]",
      "text/plain": [
       "<Figure size 640x480 with 1 Axes>"
      ]
     },
     "metadata": {},
     "output_type": "display_data"
    }
   ],
   "source": [
    "# plot the losses with epochs_list as x-axis\n",
    "\n",
    "plt.plot(epochs, train_losses, label='Train Loss')\n",
    "plt.plot(epochs, val_losses, label='Validation Loss')\n",
    "plt.xlabel('Epochs')\n",
    "plt.ylabel('Loss')\n",
    "plt.legend()\n",
    "plt.show()"
   ]
  }
 ],
 "metadata": {
  "kernelspec": {
   "display_name": ".venv",
   "language": "python",
   "name": "python3"
  },
  "language_info": {
   "codemirror_mode": {
    "name": "ipython",
    "version": 3
   },
   "file_extension": ".py",
   "mimetype": "text/x-python",
   "name": "python",
   "nbconvert_exporter": "python",
   "pygments_lexer": "ipython3",
   "version": "3.10.5"
  }
 },
 "nbformat": 4,
 "nbformat_minor": 2
}
